{
 "cells": [
  {
   "cell_type": "markdown",
   "id": "5ac18a93-66b4-45a2-b7e7-c867791a1f1d",
   "metadata": {},
   "source": [
    "## Processamento de Fundos"
   ]
  },
  {
   "cell_type": "code",
   "execution_count": 1,
   "id": "609adaf1-090a-4bfb-8958-f898b16b40af",
   "metadata": {},
   "outputs": [],
   "source": [
    "from movimentos_transfer import MovimentosTransfer\n",
    "from datetime import datetime\n"
   ]
  },
  {
   "cell_type": "code",
   "execution_count": 2,
   "id": "b22229f0-cccc-4421-84af-826ca0457372",
   "metadata": {},
   "outputs": [
    {
     "name": "stdout",
     "output_type": "stream",
     "text": [
      "11/09/2023\n",
      "-codigo 44921 -dataProcessamento 2023-09-11 -cota_processamento 1,04326943 -dataPosicao 2023-09-11 -tipo abertura -status FECHADO\n",
      "12/09/2023\n",
      "-codigo 44921 -dataProcessamento 2023-09-12 -cota_processamento 1,04389315 -dataPosicao 2023-09-12 -tipo abertura -status FECHADO\n",
      "13/09/2023\n",
      "-codigo 44921 -dataProcessamento 2023-09-13 -cota_processamento 1,04451676 -dataPosicao 2023-09-13 -tipo abertura -status FECHADO\n"
     ]
    }
   ],
   "source": [
    "\n",
    "movimentos_transfer = MovimentosTransfer('44921' ,\n",
    "                                         'CAPITANIA YIELD 120 CRÉDITO PRIVADO FI COTAS FUNDOS DE INVESTIMENTO MULTIMERCADO CRÉDITO PRIVADO',\n",
    "                                        datetime(2023 , 9 , 11) , \n",
    "                                        datetime(2023 , 9 , 14) \n",
    "                                        )\n",
    "movimentos_transfer.atualizar_fundo()"
   ]
  },
  {
   "cell_type": "markdown",
   "id": "06bc9099-17c8-418f-87b9-17bbb707b42d",
   "metadata": {},
   "source": [
    "## Resultado Conciliação"
   ]
  },
  {
   "cell_type": "code",
   "execution_count": null,
   "id": "17803e53-b442-4053-856c-3e281e0e3f2f",
   "metadata": {},
   "outputs": [],
   "source": [
    "import pandas as pd\n",
    "from conciliar import atualizar_conciliacao , gerar_conciliacao\n",
    "from datetime import datetime"
   ]
  },
  {
   "cell_type": "code",
   "execution_count": 2,
   "id": "ba59c40f-6957-4fae-b910-48e4ccf07338",
   "metadata": {},
   "outputs": [],
   "source": [
    "fundo = {\n",
    "    \"codigo_jcot\": \"44921\" ,\n",
    "    \"nome\": \"CAPITANIA YIELD 120 CRÉDITO PRIVADO FI COTAS FUNDOS DE INVESTIMENTO MULTIMERCADO CRÉDITO PRIVADO\" ,\n",
    "}"
   ]
  },
  {
   "cell_type": "code",
   "execution_count": 3,
   "id": "90270f9f-c536-4976-bab7-960e596baaa1",
   "metadata": {},
   "outputs": [
    {
     "name": "stdout",
     "output_type": "stream",
     "text": [
      "{'codigo': '44921', 'dataPosicao': '2023-08-09'}\n",
      "fora da jcot mas está no maps\n",
      "['XP 9994877']\n",
      "fora da maps mas está no jcot\n",
      "['XP 7901289']\n"
     ]
    },
    {
     "data": {
      "text/html": [
       "<div>\n",
       "<style scoped>\n",
       "    .dataframe tbody tr th:only-of-type {\n",
       "        vertical-align: middle;\n",
       "    }\n",
       "\n",
       "    .dataframe tbody tr th {\n",
       "        vertical-align: top;\n",
       "    }\n",
       "\n",
       "    .dataframe thead th {\n",
       "        text-align: right;\n",
       "    }\n",
       "</style>\n",
       "<table border=\"1\" class=\"dataframe\">\n",
       "  <thead>\n",
       "    <tr style=\"text-align: right;\">\n",
       "      <th></th>\n",
       "      <th>cd_jcot</th>\n",
       "      <th>cd_cotista</th>\n",
       "      <th>Data Referência</th>\n",
       "      <th>Investidor</th>\n",
       "      <th>QtdTotalMaps</th>\n",
       "      <th>qtdJcot</th>\n",
       "      <th>diferenca</th>\n",
       "    </tr>\n",
       "  </thead>\n",
       "  <tbody>\n",
       "  </tbody>\n",
       "</table>\n",
       "</div>"
      ],
      "text/plain": [
       "Empty DataFrame\n",
       "Columns: [cd_jcot, cd_cotista, Data Referência, Investidor, QtdTotalMaps, qtdJcot, diferenca]\n",
       "Index: []"
      ]
     },
     "execution_count": 3,
     "metadata": {},
     "output_type": "execute_result"
    }
   ],
   "source": [
    "data = datetime(2023, 8 , 9)\n",
    "atualizar_conciliacao(data , fundo)\n",
    "df = gerar_conciliacao(data)\n",
    "df"
   ]
  },
  {
   "cell_type": "code",
   "execution_count": null,
   "id": "0676600d-e933-4d8e-b618-ae070553129a",
   "metadata": {},
   "outputs": [],
   "source": []
  }
 ],
 "metadata": {
  "kernelspec": {
   "display_name": "Python 3 (ipykernel)",
   "language": "python",
   "name": "python3"
  },
  "language_info": {
   "codemirror_mode": {
    "name": "ipython",
    "version": 3
   },
   "file_extension": ".py",
   "mimetype": "text/x-python",
   "name": "python",
   "nbconvert_exporter": "python",
   "pygments_lexer": "ipython3",
   "version": "3.11.3"
  }
 },
 "nbformat": 4,
 "nbformat_minor": 5
}
